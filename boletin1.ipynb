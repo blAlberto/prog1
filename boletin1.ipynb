{
 "cells": [
  {
   "cell_type": "code",
   "execution_count": 3,
   "metadata": {},
   "outputs": [
    {
     "ename": "TypeError",
     "evalue": "ord() expected a character, but string of length 0 found",
     "output_type": "error",
     "traceback": [
      "\u001b[1;31m---------------------------------------------------------------------------\u001b[0m",
      "\u001b[1;31mTypeError\u001b[0m                                 Traceback (most recent call last)",
      "Cell \u001b[1;32mIn [3], line 3\u001b[0m\n\u001b[0;32m      1\u001b[0m \u001b[39m#ej1\u001b[39;00m\n\u001b[0;32m      2\u001b[0m caracter \u001b[39m=\u001b[39m \u001b[39minput\u001b[39m(\u001b[39m'\u001b[39m\u001b[39mCaracter: \u001b[39m\u001b[39m'\u001b[39m)\n\u001b[1;32m----> 3\u001b[0m \u001b[39mif\u001b[39;00m (\u001b[39mord\u001b[39m(caracter) \u001b[39m<\u001b[39m \u001b[39m65\u001b[39m \u001b[39mor\u001b[39;00m \u001b[39mord\u001b[39m(caracter) \u001b[39m>\u001b[39m \u001b[39m122\u001b[39m \u001b[39mor\u001b[39;00m (\u001b[39m90\u001b[39m \u001b[39m<\u001b[39m \u001b[39mord\u001b[39m(caracter) \u001b[39m<\u001b[39m \u001b[39m97\u001b[39m)):\n\u001b[0;32m      4\u001b[0m     \u001b[39mprint\u001b[39m(\u001b[39mord\u001b[39m(caracter))\n\u001b[0;32m      6\u001b[0m \u001b[39mif\u001b[39;00m (\u001b[39m65\u001b[39m \u001b[39m<\u001b[39m\u001b[39m=\u001b[39m \u001b[39mord\u001b[39m(caracter) \u001b[39m<\u001b[39m\u001b[39m=\u001b[39m \u001b[39m90\u001b[39m):\n",
      "\u001b[1;31mTypeError\u001b[0m: ord() expected a character, but string of length 0 found"
     ]
    }
   ],
   "source": [
    "#ej1\n",
    "caracter = input('Caracter: ')\n",
    "if (ord(caracter) < 65 or ord(caracter) > 122 or (90 < ord(caracter) < 97)):\n",
    "    print(ord(caracter))\n",
    "\n",
    "if (65 <= ord(caracter) <= 90):\n",
    "    print(caracter.lower())\n",
    "    print(chr(ord(caracter) + 32))\n",
    "\n",
    "if (97 <= ord(caracter) <= 122):\n",
    "    print(caracter.upper())\n",
    "    print(chr(ord(caracter) - 32))\n"
   ]
  },
  {
   "cell_type": "code",
   "execution_count": null,
   "metadata": {},
   "outputs": [
    {
     "name": "stdout",
     "output_type": "stream",
     "text": [
      "3 es el mayor\n"
     ]
    }
   ],
   "source": [
    "#ej2\n",
    "num1 = input('Numero 1: ')\n",
    "num2 = input('Numero 2: ')\n",
    "num3 = input('Numero 3: ')\n",
    "\n",
    "if (num1 > num2 and num1 > num3):\n",
    "    print(num1 + ' es el mayor')\n",
    "\n",
    "if (num2 > num1 and num2 > num3):\n",
    "    print(num2 + ' es el mayor')\n",
    "\n",
    "if (num3 > num1 and num3 > num2):\n",
    "    print(num3 + ' es el mayor')"
   ]
  },
  {
   "cell_type": "code",
   "execution_count": null,
   "metadata": {},
   "outputs": [
    {
     "name": "stdout",
     "output_type": "stream",
     "text": [
      "no bisiesto\n"
     ]
    }
   ],
   "source": [
    "#ej3\n",
    "año = int(input('Año: '))\n",
    "if (año % 400 == 0):\n",
    "    print('bisiesto')\n",
    "elif (año % 4 == 0 and año % 100 != 0):\n",
    "    print('bisiesto')\n",
    "else:\n",
    "    print('no bisiesto')"
   ]
  },
  {
   "cell_type": "code",
   "execution_count": null,
   "metadata": {},
   "outputs": [
    {
     "data": {
      "text/plain": [
       "97"
      ]
     },
     "execution_count": 18,
     "metadata": {},
     "output_type": "execute_result"
    }
   ],
   "source": [
    "#ej4\n",
    "x = float(input('Introduce x: '))\n",
    "if (-1 <= x < 1):\n",
    "    print (x**2)\n",
    "elif (1 <= x < 2):\n",
    "    print(2*x -1)\n",
    "elif (2 <= x <= 4):\n",
    "    print(-2*(x-2.5)**2 + 3.5)\n",
    "else:\n",
    "    print('La funcion no esta definida')\n"
   ]
  },
  {
   "cell_type": "code",
   "execution_count": null,
   "metadata": {},
   "outputs": [],
   "source": [
    "#ej5\n",
    "precio_min = 0.5\n",
    "tarifa_min = 1\n",
    "tarifa_min_cliente_actual = tarifa_min\n",
    "\n",
    "tiempo_llamada = float(input('tiempo de llamada: '))\n",
    "permanencia = int(input('antigüedad: '))\n",
    "\n",
    "if (permanencia > 10):\n",
    "    tarifa_min_cliente_actual /= 2\n",
    "precio = tiempo_llamada * precio_min\n",
    "if (precio > tarifa_min_cliente_actual):\n",
    "    precio = tarifa_min_cliente_actual\n",
    "\n",
    "print('Tarifa final: ' + str(precio))"
   ]
  },
  {
   "cell_type": "code",
   "execution_count": null,
   "metadata": {},
   "outputs": [],
   "source": [
    "#ej7\n",
    "def sumaDivisores(numero):\n",
    "    if (numero < 1):\n",
    "        return 0\n",
    "    acu_divisores = 0\n",
    "    divisor = numero - 1\n",
    "    while (divisor > 0):\n",
    "        if (numero % divisor == 0):\n",
    "            acu_divisores += divisor\n",
    "        divisor -= 1\n",
    "    return acu_divisores\n",
    "#------------------------------------\n",
    "num1 = int(input('Numero 1: '))\n",
    "num2 = int(input('Numero 2: '))\n",
    "\n",
    "if (sumaDivisores(num1) == num2 and sumaDivisores(num2) == num1):\n",
    "    print('Numeros amigos')\n",
    "else:\n",
    "    print('Numeros no amigos')"
   ]
  },
  {
   "cell_type": "code",
   "execution_count": null,
   "metadata": {},
   "outputs": [],
   "source": [
    "#ej8\n",
    "numero = int(input('Numero: '))\n",
    "res_binario = ''\n",
    "\n",
    "print(bin(numero))\n",
    "\n",
    "while(numero > 1):\n",
    "    res_binario = str(numero % 2) + res_binario\n",
    "    numero //= 2\n",
    "res_binario = str(numero) + res_binario\n",
    "print(res_binario)"
   ]
  },
  {
   "cell_type": "code",
   "execution_count": 15,
   "metadata": {},
   "outputs": [
    {
     "name": "stdout",
     "output_type": "stream",
     "text": [
      "1\n",
      "1.0\n",
      "3\n",
      "1.3333333333333333\n",
      "5.333333333333333\n"
     ]
    }
   ],
   "source": [
    "#ej9\n",
    "nTerminos = int(input('numero de terminos: '))\n",
    "result = 0\n",
    "suma = True\n",
    "divisor = 1\n",
    "for termino in range(1, nTerminos):\n",
    "    print(divisor)\n",
    "    if (suma):\n",
    "        result += 1/divisor\n",
    "    else:\n",
    "        result -= 1/divisor\n",
    "    divisor += 2\n",
    "    suma != suma\n",
    "    print(result)\n",
    "print(4*result)\n"
   ]
  },
  {
   "cell_type": "code",
   "execution_count": null,
   "metadata": {},
   "outputs": [],
   "source": []
  }
 ],
 "metadata": {
  "kernelspec": {
   "display_name": "Python 3.10.6 64-bit (system)",
   "language": "python",
   "name": "python3"
  },
  "language_info": {
   "codemirror_mode": {
    "name": "ipython",
    "version": 3
   },
   "file_extension": ".py",
   "mimetype": "text/x-python",
   "name": "python",
   "nbconvert_exporter": "python",
   "pygments_lexer": "ipython3",
   "version": "3.10.6"
  },
  "orig_nbformat": 4,
  "vscode": {
   "interpreter": {
    "hash": "261ed0f757271b15b6694285bc500df0e19f22959af1e719733304937f1c9022"
   }
  }
 },
 "nbformat": 4,
 "nbformat_minor": 2
}
