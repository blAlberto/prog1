{
 "cells": [
  {
   "cell_type": "code",
   "execution_count": 23,
   "metadata": {},
   "outputs": [
    {
     "name": "stdout",
     "output_type": "stream",
     "text": [
      "51\n"
     ]
    }
   ],
   "source": [
    "#ej1\n",
    "caracter = input('Caracter: ')\n",
    "if (ord(caracter) < 65 or ord(caracter) > 122 or (90 < ord(caracter) < 97)):\n",
    "    print(ord(caracter))\n",
    "\n",
    "if (65 <= ord(caracter) <= 90):\n",
    "    print(caracter.lower())\n",
    "    print(chr(ord(caracter) + 32))\n",
    "\n",
    "if (97 <= ord(caracter) <= 122):\n",
    "    print(caracter.upper())\n",
    "    print(chr(ord(caracter) - 32))\n"
   ]
  },
  {
   "cell_type": "code",
   "execution_count": 29,
   "metadata": {},
   "outputs": [
    {
     "name": "stdout",
     "output_type": "stream",
     "text": [
      "3 es el mayor\n"
     ]
    }
   ],
   "source": [
    "#ej2\n",
    "num1 = input('Numero 1: ')\n",
    "num2 = input('Numero 2: ')\n",
    "num3 = input('Numero 3: ')\n",
    "\n",
    "if (num1 > num2 and num1 > num3):\n",
    "    print(num1 + ' es el mayor')\n",
    "\n",
    "if (num2 > num1 and num2 > num3):\n",
    "    print(num2 + ' es el mayor')\n",
    "\n",
    "if (num3 > num1 and num3 > num2):\n",
    "    print(num3 + ' es el mayor')"
   ]
  },
  {
   "cell_type": "code",
   "execution_count": 35,
   "metadata": {},
   "outputs": [
    {
     "name": "stdout",
     "output_type": "stream",
     "text": [
      "no bisiesto\n"
     ]
    }
   ],
   "source": [
    "#ej3\n",
    "año = int(input('Año: '))\n",
    "if (año % 400 == 0):\n",
    "    print('bisiesto')\n",
    "elif (año % 4 == 0 and año % 100 != 0):\n",
    "    print('bisiesto')\n",
    "else:\n",
    "    print('no bisiesto')"
   ]
  },
  {
   "cell_type": "code",
   "execution_count": 18,
   "metadata": {},
   "outputs": [
    {
     "data": {
      "text/plain": [
       "97"
      ]
     },
     "execution_count": 18,
     "metadata": {},
     "output_type": "execute_result"
    }
   ],
   "source": [
    "ord('a')"
   ]
  }
 ],
 "metadata": {
  "kernelspec": {
   "display_name": "Python 3.10.6 64-bit (system)",
   "language": "python",
   "name": "python3"
  },
  "language_info": {
   "codemirror_mode": {
    "name": "ipython",
    "version": 3
   },
   "file_extension": ".py",
   "mimetype": "text/x-python",
   "name": "python",
   "nbconvert_exporter": "python",
   "pygments_lexer": "ipython3",
   "version": "3.10.6"
  },
  "orig_nbformat": 4,
  "vscode": {
   "interpreter": {
    "hash": "261ed0f757271b15b6694285bc500df0e19f22959af1e719733304937f1c9022"
   }
  }
 },
 "nbformat": 4,
 "nbformat_minor": 2
}
